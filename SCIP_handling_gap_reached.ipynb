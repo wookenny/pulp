{
 "cells": [
  {
   "cell_type": "code",
   "execution_count": 1,
   "metadata": {},
   "outputs": [],
   "source": [
    "from pulp import *"
   ]
  },
  {
   "cell_type": "code",
   "execution_count": 2,
   "metadata": {},
   "outputs": [
    {
     "name": "stderr",
     "output_type": "stream",
     "text": [
      "/home/tgellert/private_repositories/pulp/pulp/apis/gurobi_api.py:297: UserWarning: GUROBI error: .\n",
      "  warnings.warn('GUROBI error: {}.'.format(out))\n"
     ]
    },
    {
     "data": {
      "text/plain": [
       "['GLPK_CMD', 'PULP_CBC_CMD', 'COIN_CMD', 'PULP_CHOCO_CMD', 'SCIP_CMD']"
      ]
     },
     "execution_count": 2,
     "metadata": {},
     "output_type": "execute_result"
    }
   ],
   "source": [
    "listSolvers(onlyAvailable=True)"
   ]
  },
  {
   "cell_type": "code",
   "execution_count": 3,
   "metadata": {},
   "outputs": [],
   "source": [
    "import random \n",
    "\n",
    "def create_bin_packin_problem(bins=4, seed=0):\n",
    "    packed_bins = [[] for _ in range(bins)]\n",
    "    bin_size = bins * 100\n",
    "    random.seed(seed)\n",
    "    for i in range(len(packed_bins)):\n",
    "        remaining_size = bin_size\n",
    "        while remaining_size >= 1:\n",
    "            item = random.randrange(1, remaining_size + 10)\n",
    "            packed_bins[i].append(item)\n",
    "            remaining_size -= item\n",
    "        packed_bins[i][-1] += remaining_size\n",
    "    all_items_with_bin = [(n, i) for i, l in enumerate(packed_bins) for n in l]\n",
    "\n",
    "    random.shuffle(all_items_with_bin)\n",
    "    items, packing = zip(*all_items_with_bin)\n",
    "    return items, packing, bin_size\n"
   ]
  },
  {
   "cell_type": "code",
   "execution_count": 4,
   "metadata": {},
   "outputs": [],
   "source": [
    "from itertools import product\n",
    "\n",
    "def create_problem(bins=15):\n",
    "    items, packing, bin_size = create_bin_packin_problem(bins=bins)\n",
    "    \n",
    "    prob = LpProblem(\"bin_packing\", LpMinimize)\n",
    "    \n",
    "    bin_indices = [i for i in range(len(items))]\n",
    "    item_indices = [i for i in range(len(items))]\n",
    "\n",
    "    using_bin = LpVariable.dicts(\"y\", bin_indices, cat=LpBinary)\n",
    "    items_packed = LpVariable.dicts(\"x\", indexs=product(item_indices,bin_indices), cat=LpBinary)\n",
    "\n",
    "    prob +=  lpSum(using_bin), \"obj\"\n",
    "\n",
    "    \n",
    "    #pack every item\n",
    "    for i in item_indices:\n",
    "        prob += lpSum(items_packed[i, b] for b in bin_indices) == 1, f\"pack_item_{i}\"\n",
    "    \n",
    "    # no bin overfilled\n",
    "    for b in bin_indices:\n",
    "        expr = lpSum([items[i] * items_packed[i, b] for i in item_indices]) <= bin_size * using_bin[b]\n",
    "        prob += expr, f\"respect_binm_sizue_{b}\"\n",
    "    \n",
    "    return prob"
   ]
  },
  {
   "cell_type": "code",
   "execution_count": 5,
   "metadata": {},
   "outputs": [],
   "source": [
    "bins = 10"
   ]
  },
  {
   "cell_type": "code",
   "execution_count": 6,
   "metadata": {},
   "outputs": [
    {
     "name": "stdout",
     "output_type": "stream",
     "text": [
      "status: Optimal\n",
      "objective: 10.00\n",
      "time: 1.75s\n"
     ]
    }
   ],
   "source": [
    "# SCIP finds an optimal solution using 10 bins\n",
    "prob = create_problem(bins)\n",
    "solver = SCIP()\n",
    "status = prob.solve(solver)\n",
    "\n",
    "print(f\"status: {LpStatus[status]}\")\n",
    "print(f\"objective: {value(prob.objective):,.2f}\")\n",
    "print(f\"time: {solver.solution_time:.2f}s\")"
   ]
  },
  {
   "cell_type": "code",
   "execution_count": 7,
   "metadata": {},
   "outputs": [
    {
     "name": "stdout",
     "output_type": "stream",
     "text": [
      "status: Optimal\n",
      "objective: 11.00\n",
      "time: 0.67s\n"
     ]
    }
   ],
   "source": [
    "# SCIP finds an optimal solution using 11 bins\n",
    "# absolute Gap: 1.5 → 1 bin more considered optimal\n",
    "\n",
    "prob = create_problem(bins)\n",
    "solver = SCIP(gapAbs=1.5)\n",
    "status = prob.solve(solver)\n",
    "\n",
    "print(f\"status: {LpStatus[status]}\")\n",
    "print(f\"objective: {value(prob.objective):,.2f}\")\n",
    "print(f\"time: {solver.solution_time:.2f}s\")"
   ]
  },
  {
   "cell_type": "code",
   "execution_count": 8,
   "metadata": {},
   "outputs": [
    {
     "name": "stdout",
     "output_type": "stream",
     "text": [
      "status: Optimal\n",
      "objective: 11.00\n",
      "time: 0.71s\n"
     ]
    }
   ],
   "source": [
    "# SCIP finds an optimal solution using 11 bins\n",
    "# absolute Gap: 15% → 11 bins considered optimal\n",
    "\n",
    "prob = create_problem(bins)\n",
    "solver = SCIP(gapRel=0.15)\n",
    "status = prob.solve(solver)\n",
    "solver.getOptions()\n",
    "\n",
    "print(f\"status: {LpStatus[status]}\")\n",
    "print(f\"objective: {value(prob.objective):,.2f}\")\n",
    "print(f\"time: {solver.solution_time:.2f}s\")"
   ]
  },
  {
   "cell_type": "code",
   "execution_count": null,
   "metadata": {},
   "outputs": [],
   "source": []
  }
 ],
 "metadata": {
  "kernelspec": {
   "display_name": "Python 3",
   "language": "python",
   "name": "python3"
  },
  "language_info": {
   "codemirror_mode": {
    "name": "ipython",
    "version": 3
   },
   "file_extension": ".py",
   "mimetype": "text/x-python",
   "name": "python",
   "nbconvert_exporter": "python",
   "pygments_lexer": "ipython3",
   "version": "3.6.7"
  }
 },
 "nbformat": 4,
 "nbformat_minor": 4
}
